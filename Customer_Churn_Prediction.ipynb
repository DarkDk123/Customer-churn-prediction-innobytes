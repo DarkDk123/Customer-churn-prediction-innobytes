{
 "cells": [
  {
   "cell_type": "markdown",
   "metadata": {},
   "source": [
    "\n",
    "**<center> <span style=\"color:#0F52BA;font-family:serif; font-size:38px;\"> CUSTOMER CHURN PREDICTION 📈 </span> </center>**\n",
    "**<center> <span style=\"color:#ffff;font-family:serif; font-size:34px;\"> <h6/>Using Telco Customer Churn Dataset</h6></span></center>**\n",
    "\n",
    "<center><img src=\"https://www.neenopal.com/images/Understanding%20Customer%20Churn.png\" width=\"50%\" /></center>\n",
    "\n",
    "<p align=\"center\"><a href=\"https://www.github.com/darkdk123/\" target=\"_blank\" style=\"color:#0F52BA;\">Author: Dipesh Rathore</a></p>\n",
    "\n",
    "This Notebook, we're going to build a **machine learning project** with the goal of predicting Whether a Customer will churn (leave) or not.\n",
    "\n",
    "Throughout the project, we will use various python based ML & Data Science libraries in order to build a Machine learning Model \\\n",
    "capable of predicting whether a Customer will Churn or not, based on the given *attributes* of the Customer.\n",
    "\n",
    "Since we're trying to predict a class (churn or not), this kind of problem is known as a Classification problem.\n",
    "\n",
    "> We'll use the following steps to define our workflow:\n",
    "\n",
    "\n",
    "<a id=\"toc\"></a>    \n",
    "# <span style=\"font-family:serif; font-size:28px;\"> Content</span>\n",
    "\n",
    "1. [Problem Definition](#1)\n",
    "    * [What is Customer Churn?](#2)\n",
    "    * [How can customer churn be reducded?](#3)\n",
    "    * [Categorizing problem type, eval metrics](#4)\n",
    "2. [Data - what do we have?](#5)\n",
    "   * [Understanding Data dictionary](#6)\n",
    "\n",
    "3. [Target (Success / Objectives)](#7)\n",
    "4. [Initial Data Exploration & Preprocessing](#8)\n",
    "5. [Exploratory Data Analysis](#9)\n",
    "   * [Defining Objectives](#10)\n",
    "6. [ML Modelling](#11)\n",
    "   * [Base model Training, evaluating & selection](#12)\n",
    "   * [Optimizing, hyperparameter tuning](#13)\n",
    "   * [Final Evaluations](#14)\n",
    "   * [Model Interpretation and insights](#15)\n",
    "7. [Experimentation](#16)\n",
    "[8. Deployment & Reporting](#17)\n",
    "\n"
   ]
  }
 ],
 "metadata": {
  "kernelspec": {
   "display_name": "Python 3",
   "language": "python",
   "name": "python3"
  },
  "language_info": {
   "codemirror_mode": {
    "name": "ipython",
    "version": 3
   },
   "file_extension": ".py",
   "mimetype": "text/x-python",
   "name": "python",
   "nbconvert_exporter": "python",
   "pygments_lexer": "ipython3",
   "version": "3.12.3"
  }
 },
 "nbformat": 4,
 "nbformat_minor": 2
}
